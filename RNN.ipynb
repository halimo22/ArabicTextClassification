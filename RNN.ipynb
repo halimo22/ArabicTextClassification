{
  "cells": [
    {
      "cell_type": "markdown",
      "metadata": {},
      "source": [
        "## Preparing Dataset"
      ]
    },
    {
      "cell_type": "code",
      "execution_count": 2,
      "metadata": {
        "id": "fuEY1Z2xT-LQ"
      },
      "outputs": [
        {
          "name": "stderr",
          "output_type": "stream",
          "text": [
            "2024-10-14 05:43:08.927115: E external/local_xla/xla/stream_executor/cuda/cuda_fft.cc:485] Unable to register cuFFT factory: Attempting to register factory for plugin cuFFT when one has already been registered\n",
            "2024-10-14 05:43:08.944740: E external/local_xla/xla/stream_executor/cuda/cuda_dnn.cc:8454] Unable to register cuDNN factory: Attempting to register factory for plugin cuDNN when one has already been registered\n",
            "2024-10-14 05:43:08.950639: E external/local_xla/xla/stream_executor/cuda/cuda_blas.cc:1452] Unable to register cuBLAS factory: Attempting to register factory for plugin cuBLAS when one has already been registered\n",
            "2024-10-14 05:43:08.964588: I tensorflow/core/platform/cpu_feature_guard.cc:210] This TensorFlow binary is optimized to use available CPU instructions in performance-critical operations.\n",
            "To enable the following instructions: AVX2 FMA, in other operations, rebuild TensorFlow with the appropriate compiler flags.\n",
            "2024-10-14 05:43:09.613919: W tensorflow/compiler/tf2tensorrt/utils/py_utils.cc:38] TF-TRT Warning: Could not find TensorRT\n"
          ]
        }
      ],
      "source": [
        "import pandas as pd\n",
        "import tensorflow as tf\n",
        "import re\n",
        "import numpy as np\n",
        "import csv\n",
        "from tensorflow.keras.layers import GRU, Embedding, Dense, Bidirectional\n",
        "from tensorflow.keras.models import Sequential\n",
        "from sklearn.utils import shuffle\n"
      ]
    },
    {
      "cell_type": "code",
      "execution_count": 3,
      "metadata": {
        "colab": {
          "base_uri": "https://localhost:8080/",
          "height": 424
        },
        "id": "jN0OeIkyT-LQ",
        "outputId": "5fcb7751-0858-472b-ab78-9a96cb6cdd53"
      },
      "outputs": [
        {
          "data": {
            "text/html": [
              "<div>\n",
              "<style scoped>\n",
              "    .dataframe tbody tr th:only-of-type {\n",
              "        vertical-align: middle;\n",
              "    }\n",
              "\n",
              "    .dataframe tbody tr th {\n",
              "        vertical-align: top;\n",
              "    }\n",
              "\n",
              "    .dataframe thead th {\n",
              "        text-align: right;\n",
              "    }\n",
              "</style>\n",
              "<table border=\"1\" class=\"dataframe\">\n",
              "  <thead>\n",
              "    <tr style=\"text-align: right;\">\n",
              "      <th></th>\n",
              "      <th>label</th>\n",
              "      <th>text</th>\n",
              "    </tr>\n",
              "  </thead>\n",
              "  <tbody>\n",
              "    <tr>\n",
              "      <th>0</th>\n",
              "      <td>Positive</td>\n",
              "      <td>ممتاز نوعا ما . النظافة والموقع والتجهيز والشا...</td>\n",
              "    </tr>\n",
              "    <tr>\n",
              "      <th>1</th>\n",
              "      <td>Positive</td>\n",
              "      <td>أحد أسباب نجاح الإمارات أن كل شخص في هذه الدول...</td>\n",
              "    </tr>\n",
              "    <tr>\n",
              "      <th>2</th>\n",
              "      <td>Positive</td>\n",
              "      <td>هادفة .. وقوية. تنقلك من صخب شوارع القاهرة الى...</td>\n",
              "    </tr>\n",
              "    <tr>\n",
              "      <th>3</th>\n",
              "      <td>Positive</td>\n",
              "      <td>خلصنا .. مبدئيا اللي مستني ابهار زي الفيل الاز...</td>\n",
              "    </tr>\n",
              "    <tr>\n",
              "      <th>4</th>\n",
              "      <td>Positive</td>\n",
              "      <td>ياسات جلوريا جزء لا يتجزأ من دبي . فندق متكامل...</td>\n",
              "    </tr>\n",
              "    <tr>\n",
              "      <th>...</th>\n",
              "      <td>...</td>\n",
              "      <td>...</td>\n",
              "    </tr>\n",
              "    <tr>\n",
              "      <th>99994</th>\n",
              "      <td>Negative</td>\n",
              "      <td>معرفش ليه كنت عاوزة أكملها وهي مش عاجباني من ا...</td>\n",
              "    </tr>\n",
              "    <tr>\n",
              "      <th>99995</th>\n",
              "      <td>Negative</td>\n",
              "      <td>لا يستحق ان يكون في بوكنق لانه سيئ . لا شي. لا...</td>\n",
              "    </tr>\n",
              "    <tr>\n",
              "      <th>99996</th>\n",
              "      <td>Negative</td>\n",
              "      <td>كتاب ضعيف جدا ولم استمتع به. فى كل قصه سرد لحا...</td>\n",
              "    </tr>\n",
              "    <tr>\n",
              "      <th>99997</th>\n",
              "      <td>Negative</td>\n",
              "      <td>مملة جدا. محمد حسن علوان فنان بالكلمات، والوصف...</td>\n",
              "    </tr>\n",
              "    <tr>\n",
              "      <th>99998</th>\n",
              "      <td>Negative</td>\n",
              "      <td>لن ارجع إليه مرة اخرى . قربه من البحر. المكان ...</td>\n",
              "    </tr>\n",
              "  </tbody>\n",
              "</table>\n",
              "<p>99999 rows × 2 columns</p>\n",
              "</div>"
            ],
            "text/plain": [
              "          label                                               text\n",
              "0      Positive  ممتاز نوعا ما . النظافة والموقع والتجهيز والشا...\n",
              "1      Positive  أحد أسباب نجاح الإمارات أن كل شخص في هذه الدول...\n",
              "2      Positive  هادفة .. وقوية. تنقلك من صخب شوارع القاهرة الى...\n",
              "3      Positive  خلصنا .. مبدئيا اللي مستني ابهار زي الفيل الاز...\n",
              "4      Positive  ياسات جلوريا جزء لا يتجزأ من دبي . فندق متكامل...\n",
              "...         ...                                                ...\n",
              "99994  Negative  معرفش ليه كنت عاوزة أكملها وهي مش عاجباني من ا...\n",
              "99995  Negative  لا يستحق ان يكون في بوكنق لانه سيئ . لا شي. لا...\n",
              "99996  Negative  كتاب ضعيف جدا ولم استمتع به. فى كل قصه سرد لحا...\n",
              "99997  Negative  مملة جدا. محمد حسن علوان فنان بالكلمات، والوصف...\n",
              "99998  Negative  لن ارجع إليه مرة اخرى . قربه من البحر. المكان ...\n",
              "\n",
              "[99999 rows x 2 columns]"
            ]
          },
          "execution_count": 3,
          "metadata": {},
          "output_type": "execute_result"
        }
      ],
      "source": [
        "df=pd.read_csv(f'Dataset.tsv', sep='\\t')\n",
        "df"
      ]
    },
    {
      "cell_type": "code",
      "execution_count": 4,
      "metadata": {
        "id": "kc2Q0dKNT-LQ"
      },
      "outputs": [],
      "source": [
        "df['sentiment_id'] = df['label'].map({'Negative': 0, 'Positive': 1, 'Mixed': 2})"
      ]
    },
    {
      "cell_type": "code",
      "execution_count": 5,
      "metadata": {
        "colab": {
          "base_uri": "https://localhost:8080/",
          "height": 458
        },
        "id": "Y885w7Ssb7eq",
        "outputId": "88d49957-f7fa-493f-b1d0-72dc5c3498fe"
      },
      "outputs": [
        {
          "data": {
            "text/plain": [
              "0        1\n",
              "1        1\n",
              "2        1\n",
              "3        1\n",
              "4        1\n",
              "        ..\n",
              "99994    0\n",
              "99995    0\n",
              "99996    0\n",
              "99997    0\n",
              "99998    0\n",
              "Name: sentiment_id, Length: 99999, dtype: int64"
            ]
          },
          "execution_count": 5,
          "metadata": {},
          "output_type": "execute_result"
        }
      ],
      "source": [
        "df['sentiment_id']"
      ]
    },
    {
      "cell_type": "code",
      "execution_count": 6,
      "metadata": {
        "id": "FDirKwfpT-LQ"
      },
      "outputs": [],
      "source": [
        "reviews = df['text'].values\n",
        "labels= df['sentiment_id'].values"
      ]
    },
    {
      "cell_type": "code",
      "execution_count": 7,
      "metadata": {
        "id": "LkKaDMDyT-LR"
      },
      "outputs": [],
      "source": [
        "reviews, labels=shuffle(reviews, labels)"
      ]
    },
    {
      "cell_type": "code",
      "execution_count": 8,
      "metadata": {
        "colab": {
          "base_uri": "https://localhost:8080/"
        },
        "id": "HBjjfuPFcFf6",
        "outputId": "4bab9ebb-de73-4576-83bb-bbcf486af017"
      },
      "outputs": [
        {
          "data": {
            "text/plain": [
              "array([1, 0, 1, ..., 2, 0, 0])"
            ]
          },
          "execution_count": 8,
          "metadata": {},
          "output_type": "execute_result"
        }
      ],
      "source": [
        "labels"
      ]
    },
    {
      "cell_type": "code",
      "execution_count": 9,
      "metadata": {
        "colab": {
          "base_uri": "https://localhost:8080/"
        },
        "id": "yEdhBMlKT-LR",
        "outputId": "a91adb1e-a1bc-4c7e-c433-e7a80fb80593"
      },
      "outputs": [
        {
          "name": "stdout",
          "output_type": "stream",
          "text": [
            "مسل جدا ورغم أن عمره أكثر من قرن أي قبل ظهور التلفزيون مثلا فإنه يحمل إضاءات لا تزال صحيحة رغم كل المتغيرات 1\n",
            "يوجد موظف في الاستقبال تعامله جدا سيء . المطعم. يوجد موظف في الاستقبال تعامله جدا سيء 0\n",
            "نايف . . موظف الاستقبال 1\n",
            "مخيب للأمل. يسمح بالزوار مقابل درهم . عدم تجاوب خدمه العرفه مع الطلبات وعدم سرعة انجازها جميع غرف الفندق صغيره 0\n",
            "أعجبني الكتاب وأكثر ما أبهرني فعلا هي الدقة الإملائية التي قلما نراها الأن في عالمنا العربي وحتي في أكبر الصحف .. ما قدمه أ. ثروت في هذا يعطي إنطباع أن هذا الكاتب لا يزال لديه الكثير ليقوله .. أعطاني وشرح لي تفسير لما كنت أتخيل وما كنت أسئله لنفسي دوما كيف لشخص أن يقبل أن يضع نفسه في منظومة تلغي عقله وتفكر بدلا منه وكنت دائما أرد علي نفسي وأقول هو فقط مجرد إنطباع بسبب إختلافي مع منهج الإخوان .. ولكن بعد قراءتي لهذا الكتاب وكذلك باقي كتب ثروت الخرباوي أيقنت تماما أن منهج السمع والطاعة يتطلب أشخاص من نوع خاص بمواصفات معينه ومعذرة لمن يخالفني الرأي وهذا النوع من الأشخاص قريب للخضوع أكثر منه إلي الحرية ودليل في هذا كل الأشخاص الذين لم يستطيعو الإستمرار في الجماعة وتخلو عنها رغم منصبهم الكبير فيها .. أمثال: مختار نوح وكمال الهلباوي وثروت الخرباوي ومن قبل الزعيم جمال عبدالناصر .. لو نظرت لطبيعة هؤلاء الأشخاص ستجدهم أشخاص لا يمكن إقتيادهم وبالتالي لا يمكن أن يستمروا في جماعة كجماعة الإخوان.. وفي النهاية لا أستطيع أن أسمع وأطيع بلا مناقشة إلا لمن خلقني وخلق الكون حولي ومع غيره ساناقش وأتكلم وأسأل طالما وجد في ضميري سؤال وبقي من أمامي بشر. 1\n",
            "فندق موقعه ممتاز وخدمات عاديه لم اسعد بتجربه هذا الفندق احسست بعدم الراحه وكم تمنيت عدم الحجز به سلبيات الفندق طاقم الفندق غير صادق في وعوده فقذ اتصل علي وطلبت منه ان يجهز الغرفه ولم يفعل المصاعد قليله والاتنظار يمتد الى دقاىق طويله عندة الحمامات غير مجهزة بشطفات الغرف صغيرة مقارنه بفنداق نجموم المعتاده والتي لا تقل عن متر الاثاث قديم عزل الصوت ضعيف جدا ومحرج انتبه فكل صوت يسمع 2\n",
            "توقفت عن قراءة هذا الكتاب عندما بحثت في إحدى المراجع المذكورة لأجد الاستنتاج المستقى منها لا علاقة له بالبحث أو نتائجه لم أستطع المتابعة، وإلا استوجب علي البحث في كل المراجع التي ستذكر والتي ذكرت . لن يساعد هذا في حل عقدتي من استخدام الكثير من المتدينين الخاطئ والمضلل للعلم.. عموما، قبل توقفي عن القراءة أزعجني تناقض عمرو شريف واختياره الواضح لصف واحد من العلماء، كما أن فلسفته مكررة وسطحية على أفضل تقدير. 0\n",
            "الحرافيش. تبدأ الملحمة بذلك المستبد العادل او عاشور الناجي مؤسس العائلة التي تدور حولها الاحداث. ضرب الناجي الكبير المثل في القوة والعدالة وايثار الحرافيش وان كانت له هفواته كغيره من البشر. تولى ابنه شمس الدين الفتونة من بعده ملتزما بعهد ابيه، ثم جاء الحفيد سليمان فتغلب عليه ضعفه الانساني وانحرف عن العهد وانتسب للوجهاء، واصبحت ذريته بكر وخضر الجيل الاول الذي تمتزج فيه القوة مع المال الفتونة مع الوجاهة في ال الناجي، ومن هذا الجيل يبدأ الفتوات المتعاقبون في اعادة سيرة البطش بالحرافيش، كما كانت قبل الناجي الكبير.. وعلى الرغم من تولي عدد من ال الناجي الفتونة على مدار الاحداث من بعد وفاة سليمان، الا ان ايا منهم لم يستطع ان يعيد سيرة المؤسس. وكأن البداية هي النقطة المرتفعة من دورة الحياة وكل ما يأتي بعدها ما هو الا تردي وانحدار. اما الحرافيش فلايزالوا متعلقي الفؤاد بذكرى عاشور الناجي الكبير، في انتظار واحد من احفاده ليعيد امجاد جده الاكبر.. يطول انتظار الحرافيش حتى يصل بهم بؤس الحال الى تحويل عهد الناجي الكبير الى اسطورة لا تمت للواقع، والاستسلام لبطش الفتوات كأنه القضاء والقدر، بينما يستمر انحدار الفتوات من ال الناجي حتى يصل الى الحضيض عندما يتولى الفتونة سماحة حفيد جلال صاحب المئذنة والذي كان دونا عن كل ذرية الناجي يكره ماضيه وسيرة الناجي الكبير ولا ينفك يعرض علنا بذلات العائلة، ويبالغ في وصفه لهفوات الناجي الكبير فيصفه باللص الاكبر، ويسخر من الاصول الوضيعة للاسرة الاولى.. تضرب المجاعة البلاد، فيصاب الحرافيش في مقتل. فحتى لقمة العيش المغموسة بالذل والهوان اضحت شحيحة. مع الانسحاق الذي تعرض له الحرافيش من جراء المجاعة، شاع في اوساطهم ان عاشور الناجي عاد من الماضي السحيق، وأنه يبعث بنفحاته من الطعام اليهم ليلا من خلال رجاله المتخفين في الظلام. وكأنما العقل الجمعي للحرافيش لجأ الى حيلة دفاعية نفسية حتى يحافظ على بقائه، فاستدعى الاسطورة من عالم الخيال الى الواقع المرير مرة اخرى.. تفاعل انبعاث الاسطورة مع قسوة الجوع والذل فكان الانفجار والثورة الشعبية ضد طغيان الفتوات. انتصرت الثورة وقضت على الفتوة الاكبر وكان قائدها فرد من ال الناجي، يملأ قلبه عهد الناجي الكبير وسيرته بينما يعجز بدنه عن بسط سلطته على الحارة لضعف فيه. لجأ القائد الى افراد من عصابة الفتوة الغابر بعد ان اخذ عليهم العهود ليديروا شئون الحارة ويبسطوا الامن والحماية. في البداية استجاب افراد العصابة لتعليمات القائد وحاولوا ان يقتربوا من المثال الذي ضربه الناجي الكبير في حكم الحارة. الا ان مرور الوقت جعلهم مطمئني الجانب من ثورة ثانية للحرافيش فاستضعفوا قائد الحرافيش وبطشوا بهم بطشا شديدا حتى عادت لهم السيطرة المطلقة واعادوا عهد الطغيان.. بعد اندحار الثورة، كفر الحرافيش بال الناجي فماعدا الجيل الاول وقائد الثورة ، فكل افراد العائلة سواء. الخسة والوضاعة وخيانة عهد الناجي الكبير وتعلقهم بحياة الوجهاء وهم ابعد مايكونوا عنهم وممارستهم اعمال البلطجة وفرض الاتاوات كمصدر وحيد للثراء.. لم يبق من ال الناجي سوى حرافيش فعادوا مرة اخرى الى اصلهم، بلا وجاهة او فتونة، تلاحقهم لعنات غيرهم من الحرافيش وسخرية الوجهاء وتنكيل الفتوات المضاعف.. ومن نسل ال الناجي المتأخرين، يولد عاشور الناجي الجديد، عملاق قوي كجده الاكبر، ويملأ قلبه حب الحرافيش وسعيه للعدل. درس الحفيد سيرة الجد جيدا وادرك اسباب الضعف التي ادت الى زوال عهد الناجي الكبير. ادرك ان الحل الوحيد ان يقوم الحرافيش بوظائف الفتوات وان يكون كل منهم فتوة ، فلا يمكن ان يستبد احدهم بالسلطة منفردا كما انهم جميعا سيكونوا قادرين على تطهير انفسهم من كل عضو فاسد ويحموا انفسهم من الضعف الانساني.. وعندما استطاع عاشور الحفيد ان ينقل اراءه الى الحرافيش، وثقوا في قوتهم وقاموا بثورتهم الاخيرة التي انتصروا فيها على الفتوات نصرا دائما.. ، 1\n",
            "رأيي من رأي الأخت فاطمة :. نظرا لان الكتاب كتب من وقت طويل جدا الطبعة الاولى صدرت فى عام فقد تغيرت البلاد التى ذكرت به تغيرا هائلا من تاريخ صدور الكتاب وحتى الان تغيرات كبيرة فى تركيبة المجتمع و التكوين الإقتصادى و السياسى جعلت من الصورة المنقولة عن كثير من الدول صورة غريبة.....قد يكون مفيدا قرائته إن كنت تعرف جيدا دولة ما بتكوينها الان و طبيعة مجتمعها و أحببت أن تعقد مقارنة بينها الان وبين وصف انيس منصور لتجربتة فيها من أربعين عاما...ولكن بالنسبة للدول التى لا أعرف عنها جيدا الان و أحب أن أتعرف عليها عن قرب فلا أظن أن الصورة المنقولة عنها من أربعين عاما ستكون مفيدة.... برأيي الكتاب ممتع ومفيد فى وقت إصدارة وليس الان.. 0\n",
            "مرضي. . النت ضعيف 2\n"
          ]
        }
      ],
      "source": [
        "for i in range(0, 10):\n",
        "  print(reviews[i], labels[i])"
      ]
    },
    {
      "cell_type": "markdown",
      "metadata": {},
      "source": [
        "## Preparing Tokenizer and sequences"
      ]
    },
    {
      "cell_type": "code",
      "execution_count": 10,
      "metadata": {
        "id": "WUzfUnq3T-LR"
      },
      "outputs": [],
      "source": [
        "from tensorflow.keras.preprocessing.text import Tokenizer\n",
        "from tensorflow.keras.preprocessing.sequence import pad_sequences\n",
        "from sklearn.model_selection import train_test_split\n",
        "tknzr = Tokenizer(lower=True, split=\" \")\n",
        "tknzr.fit_on_texts(reviews)\n",
        "\n",
        "#making sequences:\n",
        "X = tknzr.texts_to_sequences(reviews)\n",
        "X = pad_sequences(X, padding='post', value=0)\n",
        "X_train, X_test, y_train, y_test = train_test_split(X, labels, test_size=0.1, random_state=42)"
      ]
    },
    {
      "cell_type": "code",
      "execution_count": 11,
      "metadata": {
        "id": "mgexpX2doikZ"
      },
      "outputs": [],
      "source": [
        "y_train = tf.keras.utils.to_categorical(y_train, num_classes=3)"
      ]
    },
    {
      "cell_type": "markdown",
      "metadata": {},
      "source": [
        "## Model Training"
      ]
    },
    {
      "cell_type": "code",
      "execution_count": 12,
      "metadata": {
        "id": "g9D0rkQxT-LS"
      },
      "outputs": [
        {
          "name": "stderr",
          "output_type": "stream",
          "text": [
            "WARNING: All log messages before absl::InitializeLog() is called are written to STDERR\n",
            "I0000 00:00:1728873803.851215    9838 cuda_executor.cc:1015] successful NUMA node read from SysFS had negative value (-1), but there must be at least one NUMA node, so returning NUMA node zero. See more at https://github.com/torvalds/linux/blob/v6.0/Documentation/ABI/testing/sysfs-bus-pci#L344-L355\n",
            "I0000 00:00:1728873803.894379    9838 cuda_executor.cc:1015] successful NUMA node read from SysFS had negative value (-1), but there must be at least one NUMA node, so returning NUMA node zero. See more at https://github.com/torvalds/linux/blob/v6.0/Documentation/ABI/testing/sysfs-bus-pci#L344-L355\n",
            "I0000 00:00:1728873803.894633    9838 cuda_executor.cc:1015] successful NUMA node read from SysFS had negative value (-1), but there must be at least one NUMA node, so returning NUMA node zero. See more at https://github.com/torvalds/linux/blob/v6.0/Documentation/ABI/testing/sysfs-bus-pci#L344-L355\n",
            "I0000 00:00:1728873803.895994    9838 cuda_executor.cc:1015] successful NUMA node read from SysFS had negative value (-1), but there must be at least one NUMA node, so returning NUMA node zero. See more at https://github.com/torvalds/linux/blob/v6.0/Documentation/ABI/testing/sysfs-bus-pci#L344-L355\n",
            "I0000 00:00:1728873803.896195    9838 cuda_executor.cc:1015] successful NUMA node read from SysFS had negative value (-1), but there must be at least one NUMA node, so returning NUMA node zero. See more at https://github.com/torvalds/linux/blob/v6.0/Documentation/ABI/testing/sysfs-bus-pci#L344-L355\n",
            "I0000 00:00:1728873803.896370    9838 cuda_executor.cc:1015] successful NUMA node read from SysFS had negative value (-1), but there must be at least one NUMA node, so returning NUMA node zero. See more at https://github.com/torvalds/linux/blob/v6.0/Documentation/ABI/testing/sysfs-bus-pci#L344-L355\n",
            "I0000 00:00:1728873803.969474    9838 cuda_executor.cc:1015] successful NUMA node read from SysFS had negative value (-1), but there must be at least one NUMA node, so returning NUMA node zero. See more at https://github.com/torvalds/linux/blob/v6.0/Documentation/ABI/testing/sysfs-bus-pci#L344-L355\n",
            "I0000 00:00:1728873803.969700    9838 cuda_executor.cc:1015] successful NUMA node read from SysFS had negative value (-1), but there must be at least one NUMA node, so returning NUMA node zero. See more at https://github.com/torvalds/linux/blob/v6.0/Documentation/ABI/testing/sysfs-bus-pci#L344-L355\n",
            "I0000 00:00:1728873803.969891    9838 cuda_executor.cc:1015] successful NUMA node read from SysFS had negative value (-1), but there must be at least one NUMA node, so returning NUMA node zero. See more at https://github.com/torvalds/linux/blob/v6.0/Documentation/ABI/testing/sysfs-bus-pci#L344-L355\n",
            "2024-10-14 05:43:23.970054: I tensorflow/core/common_runtime/gpu/gpu_device.cc:2021] Created device /job:localhost/replica:0/task:0/device:GPU:0 with 4951 MB memory:  -> device: 0, name: NVIDIA GeForce GTX 1060 6GB, pci bus id: 0000:09:00.0, compute capability: 6.1\n"
          ]
        }
      ],
      "source": [
        "model = Sequential()\n",
        "model.add(Embedding(len(tknzr.word_index)+1, 32))\n",
        "model.add(Bidirectional(GRU(units = 32)))\n",
        "model.add(Dense(32, activation = 'tanh'))\n",
        "model.add(Dense(3, activation='softmax'))\n",
        "model.compile(optimizer = 'adam', loss = 'categorical_crossentropy', metrics = ['accuracy'])"
      ]
    },
    {
      "cell_type": "code",
      "execution_count": 13,
      "metadata": {
        "colab": {
          "base_uri": "https://localhost:8080/",
          "height": 272
        },
        "id": "o1ssdnyeT-LS",
        "outputId": "43f45192-8b5f-4c26-8bf4-597e4ee1d3c8"
      },
      "outputs": [
        {
          "data": {
            "text/html": [
              "<pre style=\"white-space:pre;overflow-x:auto;line-height:normal;font-family:Menlo,'DejaVu Sans Mono',consolas,'Courier New',monospace\"><span style=\"font-weight: bold\">Model: \"sequential\"</span>\n",
              "</pre>\n"
            ],
            "text/plain": [
              "\u001b[1mModel: \"sequential\"\u001b[0m\n"
            ]
          },
          "metadata": {},
          "output_type": "display_data"
        },
        {
          "data": {
            "text/html": [
              "<pre style=\"white-space:pre;overflow-x:auto;line-height:normal;font-family:Menlo,'DejaVu Sans Mono',consolas,'Courier New',monospace\">┏━━━━━━━━━━━━━━━━━━━━━━━━━━━━━━━━━┳━━━━━━━━━━━━━━━━━━━━━━━━┳━━━━━━━━━━━━━━━┓\n",
              "┃<span style=\"font-weight: bold\"> Layer (type)                    </span>┃<span style=\"font-weight: bold\"> Output Shape           </span>┃<span style=\"font-weight: bold\">       Param # </span>┃\n",
              "┡━━━━━━━━━━━━━━━━━━━━━━━━━━━━━━━━━╇━━━━━━━━━━━━━━━━━━━━━━━━╇━━━━━━━━━━━━━━━┩\n",
              "│ embedding (<span style=\"color: #0087ff; text-decoration-color: #0087ff\">Embedding</span>)           │ ?                      │   <span style=\"color: #00af00; text-decoration-color: #00af00\">0</span> (unbuilt) │\n",
              "├─────────────────────────────────┼────────────────────────┼───────────────┤\n",
              "│ bidirectional (<span style=\"color: #0087ff; text-decoration-color: #0087ff\">Bidirectional</span>)   │ ?                      │   <span style=\"color: #00af00; text-decoration-color: #00af00\">0</span> (unbuilt) │\n",
              "├─────────────────────────────────┼────────────────────────┼───────────────┤\n",
              "│ dense (<span style=\"color: #0087ff; text-decoration-color: #0087ff\">Dense</span>)                   │ ?                      │   <span style=\"color: #00af00; text-decoration-color: #00af00\">0</span> (unbuilt) │\n",
              "├─────────────────────────────────┼────────────────────────┼───────────────┤\n",
              "│ dense_1 (<span style=\"color: #0087ff; text-decoration-color: #0087ff\">Dense</span>)                 │ ?                      │   <span style=\"color: #00af00; text-decoration-color: #00af00\">0</span> (unbuilt) │\n",
              "└─────────────────────────────────┴────────────────────────┴───────────────┘\n",
              "</pre>\n"
            ],
            "text/plain": [
              "┏━━━━━━━━━━━━━━━━━━━━━━━━━━━━━━━━━┳━━━━━━━━━━━━━━━━━━━━━━━━┳━━━━━━━━━━━━━━━┓\n",
              "┃\u001b[1m \u001b[0m\u001b[1mLayer (type)                   \u001b[0m\u001b[1m \u001b[0m┃\u001b[1m \u001b[0m\u001b[1mOutput Shape          \u001b[0m\u001b[1m \u001b[0m┃\u001b[1m \u001b[0m\u001b[1m      Param #\u001b[0m\u001b[1m \u001b[0m┃\n",
              "┡━━━━━━━━━━━━━━━━━━━━━━━━━━━━━━━━━╇━━━━━━━━━━━━━━━━━━━━━━━━╇━━━━━━━━━━━━━━━┩\n",
              "│ embedding (\u001b[38;5;33mEmbedding\u001b[0m)           │ ?                      │   \u001b[38;5;34m0\u001b[0m (unbuilt) │\n",
              "├─────────────────────────────────┼────────────────────────┼───────────────┤\n",
              "│ bidirectional (\u001b[38;5;33mBidirectional\u001b[0m)   │ ?                      │   \u001b[38;5;34m0\u001b[0m (unbuilt) │\n",
              "├─────────────────────────────────┼────────────────────────┼───────────────┤\n",
              "│ dense (\u001b[38;5;33mDense\u001b[0m)                   │ ?                      │   \u001b[38;5;34m0\u001b[0m (unbuilt) │\n",
              "├─────────────────────────────────┼────────────────────────┼───────────────┤\n",
              "│ dense_1 (\u001b[38;5;33mDense\u001b[0m)                 │ ?                      │   \u001b[38;5;34m0\u001b[0m (unbuilt) │\n",
              "└─────────────────────────────────┴────────────────────────┴───────────────┘\n"
            ]
          },
          "metadata": {},
          "output_type": "display_data"
        },
        {
          "data": {
            "text/html": [
              "<pre style=\"white-space:pre;overflow-x:auto;line-height:normal;font-family:Menlo,'DejaVu Sans Mono',consolas,'Courier New',monospace\"><span style=\"font-weight: bold\"> Total params: </span><span style=\"color: #00af00; text-decoration-color: #00af00\">0</span> (0.00 B)\n",
              "</pre>\n"
            ],
            "text/plain": [
              "\u001b[1m Total params: \u001b[0m\u001b[38;5;34m0\u001b[0m (0.00 B)\n"
            ]
          },
          "metadata": {},
          "output_type": "display_data"
        },
        {
          "data": {
            "text/html": [
              "<pre style=\"white-space:pre;overflow-x:auto;line-height:normal;font-family:Menlo,'DejaVu Sans Mono',consolas,'Courier New',monospace\"><span style=\"font-weight: bold\"> Trainable params: </span><span style=\"color: #00af00; text-decoration-color: #00af00\">0</span> (0.00 B)\n",
              "</pre>\n"
            ],
            "text/plain": [
              "\u001b[1m Trainable params: \u001b[0m\u001b[38;5;34m0\u001b[0m (0.00 B)\n"
            ]
          },
          "metadata": {},
          "output_type": "display_data"
        },
        {
          "data": {
            "text/html": [
              "<pre style=\"white-space:pre;overflow-x:auto;line-height:normal;font-family:Menlo,'DejaVu Sans Mono',consolas,'Courier New',monospace\"><span style=\"font-weight: bold\"> Non-trainable params: </span><span style=\"color: #00af00; text-decoration-color: #00af00\">0</span> (0.00 B)\n",
              "</pre>\n"
            ],
            "text/plain": [
              "\u001b[1m Non-trainable params: \u001b[0m\u001b[38;5;34m0\u001b[0m (0.00 B)\n"
            ]
          },
          "metadata": {},
          "output_type": "display_data"
        }
      ],
      "source": [
        "model.summary()"
      ]
    },
    {
      "cell_type": "code",
      "execution_count": 14,
      "metadata": {
        "colab": {
          "base_uri": "https://localhost:8080/"
        },
        "id": "zY-XhLM0ci_L",
        "outputId": "2bb1a7d1-dce8-4b58-b179-29fdb07f6edb"
      },
      "outputs": [
        {
          "data": {
            "text/plain": [
              "array([[ 2746,   497,  2746, ...,     0,     0,     0],\n",
              "       [  206,   215,    30, ...,     0,     0,     0],\n",
              "       [   34, 13154,    21, ...,     0,     0,     0],\n",
              "       ...,\n",
              "       [ 2428,    61,   569, ...,     0,     0,     0],\n",
              "       [70762,  4882,  2564, ...,     0,     0,     0],\n",
              "       [   42,   738,     1, ...,     0,     0,     0]], dtype=int32)"
            ]
          },
          "execution_count": 14,
          "metadata": {},
          "output_type": "execute_result"
        }
      ],
      "source": [
        "X_train"
      ]
    },
    {
      "cell_type": "code",
      "execution_count": 15,
      "metadata": {
        "colab": {
          "base_uri": "https://localhost:8080/"
        },
        "id": "Po78mYNiclG6",
        "outputId": "4dbd46e6-8cbd-4ea2-b8fa-c89e8109ebf7"
      },
      "outputs": [
        {
          "data": {
            "text/plain": [
              "array([[1., 0., 0.],\n",
              "       [1., 0., 0.],\n",
              "       [0., 0., 1.],\n",
              "       ...,\n",
              "       [0., 0., 1.],\n",
              "       [0., 1., 0.],\n",
              "       [0., 0., 1.]])"
            ]
          },
          "execution_count": 15,
          "metadata": {},
          "output_type": "execute_result"
        }
      ],
      "source": [
        "y_train"
      ]
    },
    {
      "cell_type": "markdown",
      "metadata": {
        "id": "ulpm1SOMnbCv"
      },
      "source": []
    },
    {
      "cell_type": "code",
      "execution_count": 16,
      "metadata": {
        "colab": {
          "base_uri": "https://localhost:8080/"
        },
        "id": "G0B9PZhNT-LS",
        "outputId": "2f8310b9-195a-4359-d1dc-6d4ba46c6942"
      },
      "outputs": [
        {
          "name": "stdout",
          "output_type": "stream",
          "text": [
            "Epoch 1/3\n"
          ]
        },
        {
          "name": "stderr",
          "output_type": "stream",
          "text": [
            "2024-10-14 05:43:24.588594: W external/local_tsl/tsl/framework/cpu_allocator_impl.cc:83] Allocation of 523577536 exceeds 10% of free system memory.\n",
            "2024-10-14 05:43:27.430314: I external/local_xla/xla/stream_executor/cuda/cuda_dnn.cc:531] Loaded cuDNN version 8907\n",
            "Could not load symbol cublasGetSmCountTarget from libcublas.so.11. Error: /home/seif/yes/bin/../lib/libcublas.so.11: undefined symbol: cublasGetSmCountTarget\n"
          ]
        },
        {
          "name": "stdout",
          "output_type": "stream",
          "text": [
            "\u001b[1m2532/2532\u001b[0m \u001b[32m━━━━━━━━━━━━━━━━━━━━\u001b[0m\u001b[37m\u001b[0m \u001b[1m221s\u001b[0m 86ms/step - accuracy: 0.6012 - loss: 0.8188 - val_accuracy: 0.6792 - val_loss: 0.6814\n",
            "Epoch 2/3\n",
            "\u001b[1m2532/2532\u001b[0m \u001b[32m━━━━━━━━━━━━━━━━━━━━\u001b[0m\u001b[37m\u001b[0m \u001b[1m217s\u001b[0m 86ms/step - accuracy: 0.8200 - loss: 0.4561 - val_accuracy: 0.6708 - val_loss: 0.7602\n",
            "Epoch 3/3\n",
            "\u001b[1m2532/2532\u001b[0m \u001b[32m━━━━━━━━━━━━━━━━━━━━\u001b[0m\u001b[37m\u001b[0m \u001b[1m219s\u001b[0m 86ms/step - accuracy: 0.9174 - loss: 0.2306 - val_accuracy: 0.6458 - val_loss: 1.0021\n"
          ]
        }
      ],
      "source": [
        "from tensorflow.keras.callbacks import ModelCheckpoint\n",
        "checkpoint_filepath = 'best_model.keras'  # Path to save the best model\n",
        "model_checkpoint_callback = ModelCheckpoint(\n",
        "    filepath=checkpoint_filepath,\n",
        "    monitor='val_accuracy',  # Monitor validation accuracy\n",
        "    mode='max',  # Maximize validation accuracy\n",
        "    save_best_only=True  # Save only the best model\n",
        ")\n",
        "\n",
        "history = model.fit(\n",
        "    X_train,\n",
        "    y_train,\n",
        "    validation_split=0.1,\n",
        "    epochs=3,\n",
        "    batch_size=32,\n",
        "    callbacks=[model_checkpoint_callback]  \n",
        ")"
      ]
    },
    {
      "cell_type": "code",
      "execution_count": 17,
      "metadata": {
        "colab": {
          "base_uri": "https://localhost:8080/"
        },
        "id": "ljFXpdy3W0SF",
        "outputId": "d9b579b4-b3f6-4093-e4cb-0dbe9f0f18b8"
      },
      "outputs": [
        {
          "name": "stdout",
          "output_type": "stream",
          "text": [
            "\u001b[1m313/313\u001b[0m \u001b[32m━━━━━━━━━━━━━━━━━━━━\u001b[0m\u001b[37m\u001b[0m \u001b[1m11s\u001b[0m 34ms/step\n",
            "              precision    recall  f1-score   support\n",
            "\n",
            "    Negative       0.76      0.73      0.74      3378\n",
            "       Mixed       0.72      0.74      0.73      3300\n",
            "    Positive       0.59      0.61      0.60      3322\n",
            "\n",
            "    accuracy                           0.69     10000\n",
            "   macro avg       0.69      0.69      0.69     10000\n",
            "weighted avg       0.69      0.69      0.69     10000\n",
            "\n"
          ]
        }
      ],
      "source": [
        "from sklearn.metrics import classification_report\n",
        "model=tf.keras.models.load_model('best_model.keras')\n",
        "y_pred = model.predict(X_test)\n",
        "y_pred_classes = np.argmax(y_pred, axis=1)\n",
        "# Assuming y_pred has shape (n_samples, n_classes)\n",
        "\n",
        "# Now use y_pred_classes in classification_report\n",
        "print(classification_report(y_test, y_pred_classes, target_names=['Negative', 'Mixed', 'Positive']))"
      ]
    },
    {
      "cell_type": "code",
      "execution_count": 19,
      "metadata": {
        "colab": {
          "base_uri": "https://localhost:8080/",
          "height": 1000
        },
        "id": "aygfpK0BZXtp",
        "outputId": "865e258b-e071-4ffb-885a-49e23e3122eb"
      },
      "outputs": [
        {
          "name": "stdout",
          "output_type": "stream",
          "text": [
            "              precision    recall  f1-score   support\n",
            "\n",
            "           0       0.76      0.73      0.74      3378\n",
            "           1       0.72      0.74      0.73      3300\n",
            "           2       0.59      0.61      0.60      3322\n",
            "\n",
            "    accuracy                           0.69     10000\n",
            "   macro avg       0.69      0.69      0.69     10000\n",
            "weighted avg       0.69      0.69      0.69     10000\n",
            "\n"
          ]
        },
        {
          "data": {
            "image/png": "[encoded data removed]",
            "text/plain": [
              "<Figure size 1000x700 with 2 Axes>"
            ]
          },
          "metadata": {},
          "output_type": "display_data"
        },
        {
          "data": {
            "image/png": "[encoded data removed]",
            "text/plain": [
              "<Figure size 1200x600 with 1 Axes>"
            ]
          },
          "metadata": {},
          "output_type": "display_data"
        }
      ],
      "source": [
        "from sklearn.metrics import classification_report, confusion_matrix\n",
        "import matplotlib.pyplot as plt\n",
        "import seaborn as sns\n",
        "# Instead of LabelEncoder, import to_categorical\n",
        "from tensorflow.keras.utils import to_categorical\n",
        "\n",
        "\n",
        "# Assuming y_test contains the true labels and y_pred contains the predicted probabilities\n",
        "y_pred_classes = np.argmax(y_pred, axis=1)  # Get the class with the highest probability\n",
        "\n",
        "# Classification report\n",
        "print(classification_report(y_test, y_pred_classes))\n",
        "\n",
        "# Instead of fitting LabelEncoder to y_train, get unique classes from y_train or y_test\n",
        "# Assuming y_train and y_test are one-hot encoded\n",
        "# Convert y_train to class indices before getting unique classes\n",
        "y_train_classes = np.argmax(y_train, axis=1)\n",
        "unique_classes = np.unique(y_train_classes)\n",
        "\n",
        "# Confusion Matrix\n",
        "conf_matrix = confusion_matrix(y_test, y_pred_classes)\n",
        "plt.figure(figsize=(10, 7))\n",
        "sns.heatmap(conf_matrix, annot=True, fmt='d', cmap='Blues',\n",
        "            xticklabels=unique_classes, yticklabels=unique_classes)  # Use unique_classes for labels\n",
        "plt.xlabel('Predicted')\n",
        "plt.ylabel('True')\n",
        "plt.title('Confusion Matrix')\n",
        "plt.show()\n",
        "\n",
        "# Plotting training and validation loss curves\n",
        "plt.figure(figsize=(12, 6))\n",
        "plt.plot(history.history['loss'], label='Train Loss')\n",
        "plt.plot(history.history['val_loss'], label='Validation Loss')\n",
        "plt.title('Training and Validation Loss')\n",
        "plt.xlabel('Epochs')\n",
        "plt.ylabel('Loss')\n",
        "plt.legend()\n",
        "plt.grid()\n",
        "plt.show()"
      ]
    }
  ],
  "metadata": {
    "accelerator": "GPU",
    "colab": {
      "gpuType": "T4",
      "provenance": []
    },
    "kernelspec": {
      "display_name": "base",
      "language": "python",
      "name": "python3"
    },
    "language_info": {
      "codemirror_mode": {
        "name": "ipython",
        "version": 3
      },
      "file_extension": ".py",
      "mimetype": "text/x-python",
      "name": "python",
      "nbconvert_exporter": "python",
      "pygments_lexer": "ipython3",
      "version": "3.12.2"
    }
  },
  "nbformat": 4,
  "nbformat_minor": 0
}
